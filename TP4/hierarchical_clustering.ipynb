{
 "cells": [
  {
   "cell_type": "markdown",
   "metadata": {},
   "source": [
    "# Hierarchical Clustering\n",
    "\n",
    "El Clustering Jerárquico es un método de agrupamiento que construye una jerarquía de clusters de manera aglomerativa (desde puntos individuales hasta un único cluster) o divisiva (desde un único cluster hasta puntos individuales). En esta implementación, nos enfocaremos en el método aglomerativo.\n",
    "\n",
    "### Métodos de Enlace Comunes\n",
    "\n",
    "- **Single Linkage (Enlace Simple):** La distancia entre dos clusters es la mínima distancia entre cualquier par de puntos en los dos clusters.\n",
    "- **Complete Linkage (Enlace Completo):** La distancia entre dos clusters es la máxima distancia entre cualquier par de puntos en los dos clusters.\n",
    "- **Average Linkage (Enlace Promedio):** La distancia entre dos clusters es el promedio de todas las distancias entre pares de puntos en los dos clusters.\n",
    "- **Centroid Linkage (Enlace de Centroides):** La distancia entre dos clusters es la distancia entre los centroides de los dos clusters."
   ]
  },
  {
   "cell_type": "markdown",
   "metadata": {},
   "source": [
    "## 1. Preparación de los Datos"
   ]
  },
  {
   "cell_type": "code",
   "execution_count": 10,
   "metadata": {},
   "outputs": [],
   "source": [
    "import pandas as pd\n",
    "import numpy as np\n",
    "import matplotlib.pyplot as plt\n",
    "import seaborn as sns\n",
    "from sklearn.preprocessing import StandardScaler\n",
    "from sklearn.decomposition import PCA\n",
    "\n",
    "# Configuración de estilos de visualización\n",
    "sns.set(style=\"whitegrid\")\n",
    "%matplotlib inline\n",
    "\n",
    "# Carga del dataset (ya limpio de valores faltantes)\n",
    "df = pd.read_csv('movie_data.csv', sep=';').dropna()\n",
    "\n",
    "# Tomar una muestra del 10% del dataset\n",
    "df_sample = df.sample(frac=0.007, random_state=42)\n",
    "\n",
    "# Selección de dos características para visualización en 2D\n",
    "numerical_features_sample = ['budget', 'popularity']\n",
    "X_sample = df_sample[numerical_features_sample].values\n",
    "\n",
    "# Escalado de las variables\n",
    "scaler = StandardScaler()\n",
    "X_scaled_sample = scaler.fit_transform(X_sample)"
   ]
  },
  {
   "cell_type": "markdown",
   "metadata": {},
   "source": [
    "## 2. Implementación del Algoritmo de Clustering Jerárquico desde Cero\n",
    "\n",
    "Primero, implementaremos una clase `HierarchicalClusteringFromScratch` que maneje el proceso de clustering jerárquico."
   ]
  },
  {
   "cell_type": "code",
   "execution_count": 11,
   "metadata": {},
   "outputs": [],
   "source": [
    "def hierarchical_clustering(X, linkage='single'):\n",
    "    n_samples = X.shape[0]\n",
    "    clusters = [[i] for i in range(n_samples)]\n",
    "    cluster_labels = [i for i in range(n_samples)]\n",
    "    distances = np.sqrt(((X[:, np.newaxis] - X[np.newaxis, :]) ** 2).sum(axis=2))\n",
    "    np.fill_diagonal(distances, np.inf)\n",
    "    Z = []\n",
    "    distance_matrices = [distances.copy()]\n",
    "    \n",
    "    for step in range(n_samples - 1):\n",
    "        # Encontrar el par con la distancia mínima\n",
    "        idx = np.argmin(distances)\n",
    "        i, j = np.unravel_index(idx, distances.shape)\n",
    "        dist = distances[i, j]\n",
    "        \n",
    "        # Registrar la unión\n",
    "        c1_label = cluster_labels[i]\n",
    "        c2_label = cluster_labels[j]\n",
    "        Z.append([c1_label, c2_label, dist, len(clusters[i]) + len(clusters[j])])\n",
    "        \n",
    "        # Fusionar clusters\n",
    "        new_cluster = clusters[i] + clusters[j]\n",
    "        new_label = n_samples + step\n",
    "        clusters.append(new_cluster)\n",
    "        cluster_labels.append(new_label)\n",
    "        \n",
    "        # Eliminar los clusters antiguos\n",
    "        # Eliminar en orden inverso para evitar el desplazamiento de índices\n",
    "        for index in sorted([i, j], reverse=True):\n",
    "            del clusters[index]\n",
    "            del cluster_labels[index]\n",
    "        \n",
    "        # Actualizar la matriz de distancias\n",
    "        distances = np.delete(distances, [i, j], axis=0)\n",
    "        distances = np.delete(distances, [i, j], axis=1)\n",
    "        \n",
    "        # Calcular distancias entre el nuevo cluster y los clusters restantes\n",
    "        new_dist_row = []\n",
    "        for k in range(len(clusters) - 1):  # Excluir el nuevo cluster mismo\n",
    "            if linkage == 'single':\n",
    "                d = min([np.linalg.norm(X[p1] - X[p2]) for p1 in new_cluster for p2 in clusters[k]])\n",
    "            elif linkage == 'complete':\n",
    "                d = max([np.linalg.norm(X[p1] - X[p2]) for p1 in new_cluster for p2 in clusters[k]])\n",
    "            elif linkage == 'average':\n",
    "                dists = [np.linalg.norm(X[p1] - X[p2]) for p1 in new_cluster for p2 in clusters[k]]\n",
    "                d = sum(dists) / len(dists)\n",
    "            elif linkage == 'centroid':\n",
    "                centroid_new = np.mean(X[new_cluster], axis=0)\n",
    "                centroid_k = np.mean(X[clusters[k]], axis=0)\n",
    "                d = np.linalg.norm(centroid_new - centroid_k)\n",
    "            new_dist_row.append(d)\n",
    "        new_dist_row.append(np.inf)  # Distancia del nuevo cluster a sí mismo es infinito\n",
    "        new_dist_row = np.array(new_dist_row)\n",
    "        \n",
    "        # Añadir la nueva fila y columna a la matriz de distancias\n",
    "        distances = np.vstack([distances, new_dist_row[:-1]])\n",
    "        new_dist_col = np.append(new_dist_row[:-1], np.inf).reshape(-1, 1)\n",
    "        distances = np.hstack([distances, new_dist_col])\n",
    "        \n",
    "        # Añadir la matriz de distancias actualizada a la lista\n",
    "        distance_matrices.append(distances.copy())\n",
    "        \n",
    "    return np.array(Z), distance_matrices"
   ]
  },
  {
   "cell_type": "markdown",
   "metadata": {},
   "source": [
    "## 3. Generación de las Visualizaciones Solicitadas"
   ]
  },
  {
   "cell_type": "markdown",
   "metadata": {},
   "source": [
    "### 3.1. GIF de la Evolución de la Matriz de Distancias\n",
    "\n",
    "Crearemos un GIF que muestra cómo evoluciona la matriz de distancias durante cada iteración del algoritmo."
   ]
  },
  {
   "cell_type": "code",
   "execution_count": 12,
   "metadata": {},
   "outputs": [],
   "source": [
    "\n",
    "import matplotlib.pyplot as plt\n",
    "import matplotlib.animation as animation\n",
    "\n",
    "def animate_distance_matrix(distance_matrices):\n",
    "    fig, ax = plt.subplots()\n",
    "    \n",
    "    def update(frame):\n",
    "        ax.clear()\n",
    "        im = ax.imshow(distance_matrices[frame], cmap='viridis')\n",
    "        ax.set_title(f'Matriz de Distancias - Iteración {frame}')\n",
    "        return [im]\n",
    "    \n",
    "    ani = animation.FuncAnimation(fig, update, frames=len(distance_matrices), blit=True)\n",
    "    ani.save('hc_outputs/distance_matrix_evolution.gif', writer='pillow')\n",
    "    plt.close()\n",
    "\n",
    "# Ejecutar el clustering y obtener las matrices de distancia\n",
    "Z, distance_matrices = hierarchical_clustering(X_scaled_sample, linkage='single')\n",
    "\n",
    "# Generar el GIF\n",
    "animate_distance_matrix(distance_matrices)"
   ]
  },
  {
   "cell_type": "markdown",
   "metadata": {},
   "source": [
    "### 3.2. Generar Dendrogramas\n",
    "\n",
    "Utilizaremos la matriz de enlace `Z` para generar el dendrograma."
   ]
  },
  {
   "cell_type": "code",
   "execution_count": 13,
   "metadata": {},
   "outputs": [
    {
     "data": {
      "image/png": "[encoded data removed]",
      "text/plain": [
       "<Figure size 1000x700 with 1 Axes>"
      ]
     },
     "metadata": {},
     "output_type": "display_data"
    }
   ],
   "source": [
    "from scipy.cluster.hierarchy import dendrogram\n",
    "\n",
    "def plot_dendrogram(Z):\n",
    "    plt.figure(figsize=(10, 7))\n",
    "    dendrogram(Z.astype(float))\n",
    "    plt.title('Dendrograma del Clustering Jerárquico')\n",
    "    plt.xlabel('Índices de las Muestras')\n",
    "    plt.ylabel('Distancia')\n",
    "    plt.show()\n",
    "\n",
    "plot_dendrogram(Z)"
   ]
  },
  {
   "cell_type": "markdown",
   "metadata": {},
   "source": [
    "### 3.3. GIF con Dendrograma y Clusters Cambiantes según el Threshold\n",
    "\n",
    "Crearemos un GIF que muestra cómo cambian los clusters al variar el threshold en el dendrograma."
   ]
  },
  {
   "cell_type": "code",
   "execution_count": 14,
   "metadata": {},
   "outputs": [],
   "source": [
    "def animate_dendrogram_threshold(Z, X):\n",
    "    from scipy.cluster.hierarchy import dendrogram, fcluster\n",
    "    fig, (ax1, ax2) = plt.subplots(1, 2, figsize=(15, 7))\n",
    "\n",
    "    thresholds = np.linspace(np.max(Z[:, 2]), 0, num=20)\n",
    "    \n",
    "    # Reducir a 2D si es necesario\n",
    "    if X.shape[1] > 2:\n",
    "        pca = PCA(n_components=2)\n",
    "        X_vis = pca.fit_transform(X)\n",
    "    else:\n",
    "        X_vis = X\n",
    "    \n",
    "    def update(frame):\n",
    "        thresh = thresholds[frame]\n",
    "        ax1.clear()\n",
    "        dendrogram(Z, color_threshold=thresh, ax=ax1, no_labels=True)\n",
    "        ax1.axhline(y=thresh, c='k', linestyle='--')\n",
    "        ax1.set_title(f'Dendrograma (Threshold = {thresh:.2f})')\n",
    "\n",
    "        clusters = fcluster(Z, thresh, criterion='distance')\n",
    "        ax2.clear()\n",
    "        sns.scatterplot(x=X_vis[:, 0], y=X_vis[:, 1], hue=clusters, palette='tab10', ax=ax2, legend=False)\n",
    "        ax2.set_title('Clusters en 2D')\n",
    "\n",
    "    ani = animation.FuncAnimation(fig, update, frames=len(thresholds), blit=False)\n",
    "    ani.save('hc_outputs/dendrogram_threshold.gif', writer='pillow')\n",
    "    plt.close()\n",
    "\n",
    "\n",
    "from scipy.cluster.hierarchy import fcluster\n",
    "\n",
    "animate_dendrogram_threshold(Z, X_scaled_sample)"
   ]
  },
  {
   "cell_type": "markdown",
   "metadata": {},
   "source": [
    "### 3.4. GIF que Ilustra la Fusión de Clusters\n",
    "\n",
    "Este GIF mostrará cómo se van fusionando los clusters en cada iteración."
   ]
  },
  {
   "cell_type": "code",
   "execution_count": 15,
   "metadata": {},
   "outputs": [],
   "source": [
    "def animate_cluster_merging(Z, X):\n",
    "    fig, ax = plt.subplots(figsize=(10, 7))\n",
    "\n",
    "    # Inicialmente, cada punto es un cluster\n",
    "    clusters = np.arange(X.shape[0])\n",
    "    \n",
    "    # Reducir a 2D si es necesario\n",
    "    if X.shape[1] > 2:\n",
    "        pca = PCA(n_components=2)\n",
    "        X_vis = pca.fit_transform(X)\n",
    "    else:\n",
    "        X_vis = X\n",
    "    \n",
    "    frames = []\n",
    "    cluster_history = [clusters.copy()]\n",
    "    \n",
    "    # Generar la historia de clusters\n",
    "    for i in range(Z.shape[0]):\n",
    "        cluster1, cluster2 = int(Z[i, 0]), int(Z[i, 1])\n",
    "        clusters[clusters == cluster2] = cluster1\n",
    "        cluster_history.append(clusters.copy())\n",
    "    \n",
    "    def update(frame):\n",
    "        ax.clear()\n",
    "        sns.scatterplot(x=X_vis[:, 0], y=X_vis[:, 1], hue=cluster_history[frame], palette='tab10', ax=ax, legend=False)\n",
    "        ax.set_title(f'Fusión de Clusters - Iteración {frame}')\n",
    "    \n",
    "    ani = animation.FuncAnimation(fig, update, frames=len(cluster_history), blit=False)\n",
    "    ani.save('hc_outputs/cluster_merging.gif', writer='pillow')\n",
    "    plt.close()\n",
    "\n",
    "animate_cluster_merging(Z, X_scaled_sample)\n"
   ]
  },
  {
   "cell_type": "markdown",
   "metadata": {},
   "source": [
    "### 3.5. Creación de Dendrogramas Interactivos\n",
    "\n",
    "Utilizaremos Plotly para crear un dendrograma interactivo."
   ]
  },
  {
   "cell_type": "code",
   "execution_count": 16,
   "metadata": {},
   "outputs": [
    {
     "data": {
      "application/vnd.plotly.v1+json": {
       "config": {
        "plotlyServerURL": "https://plot.ly"
       },
       "data": [
        {
         "hoverinfo": "text",
         "marker": {
          "color": "rgb(61,153,112)"
         },
         "mode": "lines",
         "type": "scatter",
         "x": [
          25,
          25,
          35,
          35
         ],
         "xaxis": "x",
         "y": [
          0,
          0.9724371994756968,
          0.9724371994756968,
          0
         ],
         "yaxis": "y"
        },
        {
         "hoverinfo": "text",
         "marker": {
          "color": "rgb(61,153,112)"
         },
         "mode": "lines",
         "type": "scatter",
         "x": [
          75,
          75,
          85,
          85
         ],
         "xaxis": "x",
         "y": [
          0,
          0.11660391880427978,
          0.11660391880427978,
          0
         ],
         "yaxis": "y"
        },
        {
         "hoverinfo": "text",
         "marker": {
          "color": "rgb(61,153,112)"
         },
         "mode": "lines",
         "type": "scatter",
         "x": [
          65,
          65,
          80,
          80
         ],
         "xaxis": "x",
         "y": [
          0,
          0.1734291702385856,
          0.1734291702385856,
          0.11660391880427978
         ],
         "yaxis": "y"
        },
        {
         "hoverinfo": "text",
         "marker": {
          "color": "rgb(61,153,112)"
         },
         "mode": "lines",
         "type": "scatter",
         "x": [
          125,
          125,
          135,
          135
         ],
         "xaxis": "x",
         "y": [
          0,
          0.29548395825830026,
          0.29548395825830026,
          0
         ],
         "yaxis": "y"
        },
        {
         "hoverinfo": "text",
         "marker": {
          "color": "rgb(61,153,112)"
         },
         "mode": "lines",
         "type": "scatter",
         "x": [
          145,
          145,
          155,
          155
         ],
         "xaxis": "x",
         "y": [
          0,
          0.15948130586366965,
          0.15948130586366965,
          0
         ],
         "yaxis": "y"
        },
        {
         "hoverinfo": "text",
         "marker": {
          "color": "rgb(61,153,112)"
         },
         "mode": "lines",
         "type": "scatter",
         "x": [
          175,
          175,
          185,
          185
         ],
         "xaxis": "x",
         "y": [
          0,
          0.06978470828382233,
          0.06978470828382233,
          0
         ],
         "yaxis": "y"
        },
        {
         "hoverinfo": "text",
         "marker": {
          "color": "rgb(61,153,112)"
         },
         "mode": "lines",
         "type": "scatter",
         "x": [
          165,
          165,
          180,
          180
         ],
         "xaxis": "x",
         "y": [
          0,
          0.1125648953512639,
          0.1125648953512639,
          0.06978470828382233
         ],
         "yaxis": "y"
        },
        {
         "hoverinfo": "text",
         "marker": {
          "color": "rgb(61,153,112)"
         },
         "mode": "lines",
         "type": "scatter",
         "x": [
          195,
          195,
          205,
          205
         ],
         "xaxis": "x",
         "y": [
          0,
          0.1417630031852456,
          0.1417630031852456,
          0
         ],
         "yaxis": "y"
        },
        {
         "hoverinfo": "text",
         "marker": {
          "color": "rgb(61,153,112)"
         },
         "mode": "lines",
         "type": "scatter",
         "x": [
          172.5,
          172.5,
          200,
          200
         ],
         "xaxis": "x",
         "y": [
          0.1125648953512639,
          0.20218925902458112,
          0.20218925902458112,
          0.1417630031852456
         ],
         "yaxis": "y"
        },
        {
         "hoverinfo": "text",
         "marker": {
          "color": "rgb(61,153,112)"
         },
         "mode": "lines",
         "type": "scatter",
         "x": [
          150,
          150,
          186.25,
          186.25
         ],
         "xaxis": "x",
         "y": [
          0.15948130586366965,
          0.21917135517177766,
          0.21917135517177766,
          0.20218925902458112
         ],
         "yaxis": "y"
        },
        {
         "hoverinfo": "text",
         "marker": {
          "color": "rgb(61,153,112)"
         },
         "mode": "lines",
         "type": "scatter",
         "x": [
          225,
          225,
          235,
          235
         ],
         "xaxis": "x",
         "y": [
          0,
          0.08236364343090972,
          0.08236364343090972,
          0
         ],
         "yaxis": "y"
        },
        {
         "hoverinfo": "text",
         "marker": {
          "color": "rgb(61,153,112)"
         },
         "mode": "lines",
         "type": "scatter",
         "x": [
          255,
          255,
          265,
          265
         ],
         "xaxis": "x",
         "y": [
          0,
          0.10322606665329513,
          0.10322606665329513,
          0
         ],
         "yaxis": "y"
        },
        {
         "hoverinfo": "text",
         "marker": {
          "color": "rgb(61,153,112)"
         },
         "mode": "lines",
         "type": "scatter",
         "x": [
          245,
          245,
          260,
          260
         ],
         "xaxis": "x",
         "y": [
          0,
          0.13550219522777493,
          0.13550219522777493,
          0.10322606665329513
         ],
         "yaxis": "y"
        },
        {
         "hoverinfo": "text",
         "marker": {
          "color": "rgb(61,153,112)"
         },
         "mode": "lines",
         "type": "scatter",
         "x": [
          285,
          285,
          295,
          295
         ],
         "xaxis": "x",
         "y": [
          0,
          0.12237687443116559,
          0.12237687443116559,
          0
         ],
         "yaxis": "y"
        },
        {
         "hoverinfo": "text",
         "marker": {
          "color": "rgb(61,153,112)"
         },
         "mode": "lines",
         "type": "scatter",
         "x": [
          275,
          275,
          290,
          290
         ],
         "xaxis": "x",
         "y": [
          0,
          0.21926497146200805,
          0.21926497146200805,
          0.12237687443116559
         ],
         "yaxis": "y"
        },
        {
         "hoverinfo": "text",
         "marker": {
          "color": "rgb(61,153,112)"
         },
         "mode": "lines",
         "type": "scatter",
         "x": [
          252.5,
          252.5,
          282.5,
          282.5
         ],
         "xaxis": "x",
         "y": [
          0.13550219522777493,
          0.24551823582131793,
          0.24551823582131793,
          0.21926497146200805
         ],
         "yaxis": "y"
        },
        {
         "hoverinfo": "text",
         "marker": {
          "color": "rgb(61,153,112)"
         },
         "mode": "lines",
         "type": "scatter",
         "x": [
          230,
          230,
          267.5,
          267.5
         ],
         "xaxis": "x",
         "y": [
          0.08236364343090972,
          0.26746846332725716,
          0.26746846332725716,
          0.24551823582131793
         ],
         "yaxis": "y"
        },
        {
         "hoverinfo": "text",
         "marker": {
          "color": "rgb(61,153,112)"
         },
         "mode": "lines",
         "type": "scatter",
         "x": [
          215,
          215,
          248.75,
          248.75
         ],
         "xaxis": "x",
         "y": [
          0,
          0.27025288747943055,
          0.27025288747943055,
          0.26746846332725716
         ],
         "yaxis": "y"
        },
        {
         "hoverinfo": "text",
         "marker": {
          "color": "rgb(61,153,112)"
         },
         "mode": "lines",
         "type": "scatter",
         "x": [
          168.125,
          168.125,
          231.875,
          231.875
         ],
         "xaxis": "x",
         "y": [
          0.21917135517177766,
          0.3222829207408966,
          0.3222829207408966,
          0.27025288747943055
         ],
         "yaxis": "y"
        },
        {
         "hoverinfo": "text",
         "marker": {
          "color": "rgb(61,153,112)"
         },
         "mode": "lines",
         "type": "scatter",
         "x": [
          130,
          130,
          200,
          200
         ],
         "xaxis": "x",
         "y": [
          0.29548395825830026,
          0.33838703072020443,
          0.33838703072020443,
          0.3222829207408966
         ],
         "yaxis": "y"
        },
        {
         "hoverinfo": "text",
         "marker": {
          "color": "rgb(61,153,112)"
         },
         "mode": "lines",
         "type": "scatter",
         "x": [
          115,
          115,
          165,
          165
         ],
         "xaxis": "x",
         "y": [
          0,
          0.3643494909687222,
          0.3643494909687222,
          0.33838703072020443
         ],
         "yaxis": "y"
        },
        {
         "hoverinfo": "text",
         "marker": {
          "color": "rgb(61,153,112)"
         },
         "mode": "lines",
         "type": "scatter",
         "x": [
          105,
          105,
          140,
          140
         ],
         "xaxis": "x",
         "y": [
          0,
          0.37653063182553487,
          0.37653063182553487,
          0.3643494909687222
         ],
         "yaxis": "y"
        },
        {
         "hoverinfo": "text",
         "marker": {
          "color": "rgb(61,153,112)"
         },
         "mode": "lines",
         "type": "scatter",
         "x": [
          95,
          95,
          122.5,
          122.5
         ],
         "xaxis": "x",
         "y": [
          0,
          0.3924673876186765,
          0.3924673876186765,
          0.37653063182553487
         ],
         "yaxis": "y"
        },
        {
         "hoverinfo": "text",
         "marker": {
          "color": "rgb(61,153,112)"
         },
         "mode": "lines",
         "type": "scatter",
         "x": [
          72.5,
          72.5,
          108.75,
          108.75
         ],
         "xaxis": "x",
         "y": [
          0.1734291702385856,
          0.3931016427624818,
          0.3931016427624818,
          0.3924673876186765
         ],
         "yaxis": "y"
        },
        {
         "hoverinfo": "text",
         "marker": {
          "color": "rgb(61,153,112)"
         },
         "mode": "lines",
         "type": "scatter",
         "x": [
          305,
          305,
          315,
          315
         ],
         "xaxis": "x",
         "y": [
          0,
          0.5049999884223652,
          0.5049999884223652,
          0
         ],
         "yaxis": "y"
        },
        {
         "hoverinfo": "text",
         "marker": {
          "color": "rgb(61,153,112)"
         },
         "mode": "lines",
         "type": "scatter",
         "x": [
          90.625,
          90.625,
          310,
          310
         ],
         "xaxis": "x",
         "y": [
          0.3931016427624818,
          0.5519117757508204,
          0.5519117757508204,
          0.5049999884223652
         ],
         "yaxis": "y"
        },
        {
         "hoverinfo": "text",
         "marker": {
          "color": "rgb(61,153,112)"
         },
         "mode": "lines",
         "type": "scatter",
         "x": [
          55,
          55,
          200.3125,
          200.3125
         ],
         "xaxis": "x",
         "y": [
          0,
          0.614706355936179,
          0.614706355936179,
          0.5519117757508204
         ],
         "yaxis": "y"
        },
        {
         "hoverinfo": "text",
         "marker": {
          "color": "rgb(61,153,112)"
         },
         "mode": "lines",
         "type": "scatter",
         "x": [
          335,
          335,
          345,
          345
         ],
         "xaxis": "x",
         "y": [
          0,
          0.026145992797643736,
          0.026145992797643736,
          0
         ],
         "yaxis": "y"
        },
        {
         "hoverinfo": "text",
         "marker": {
          "color": "rgb(61,153,112)"
         },
         "mode": "lines",
         "type": "scatter",
         "x": [
          325,
          325,
          340,
          340
         ],
         "xaxis": "x",
         "y": [
          0,
          0.7786924935254864,
          0.7786924935254864,
          0.026145992797643736
         ],
         "yaxis": "y"
        },
        {
         "hoverinfo": "text",
         "marker": {
          "color": "rgb(61,153,112)"
         },
         "mode": "lines",
         "type": "scatter",
         "x": [
          127.65625,
          127.65625,
          332.5,
          332.5
         ],
         "xaxis": "x",
         "y": [
          0.614706355936179,
          0.9630125530921222,
          0.9630125530921222,
          0.7786924935254864
         ],
         "yaxis": "y"
        },
        {
         "hoverinfo": "text",
         "marker": {
          "color": "rgb(61,153,112)"
         },
         "mode": "lines",
         "type": "scatter",
         "x": [
          45,
          45,
          230.078125,
          230.078125
         ],
         "xaxis": "x",
         "y": [
          0,
          1.0026787829830082,
          1.0026787829830082,
          0.9630125530921222
         ],
         "yaxis": "y"
        },
        {
         "hoverinfo": "text",
         "marker": {
          "color": "rgb(61,153,112)"
         },
         "mode": "lines",
         "type": "scatter",
         "x": [
          30,
          30,
          137.5390625,
          137.5390625
         ],
         "xaxis": "x",
         "y": [
          0.9724371994756968,
          1.0192893096954225,
          1.0192893096954225,
          1.0026787829830082
         ],
         "yaxis": "y"
        },
        {
         "hoverinfo": "text",
         "marker": {
          "color": "rgb(61,153,112)"
         },
         "mode": "lines",
         "type": "scatter",
         "x": [
          15,
          15,
          83.76953125,
          83.76953125
         ],
         "xaxis": "x",
         "y": [
          0,
          1.308330491148157,
          1.308330491148157,
          1.0192893096954225
         ],
         "yaxis": "y"
        },
        {
         "hoverinfo": "text",
         "marker": {
          "color": "rgb(0,116,217)"
         },
         "mode": "lines",
         "type": "scatter",
         "x": [
          5,
          5,
          49.384765625,
          49.384765625
         ],
         "xaxis": "x",
         "y": [
          0,
          2.665606329308352,
          2.665606329308352,
          1.308330491148157
         ],
         "yaxis": "y"
        }
       ],
       "layout": {
        "autosize": false,
        "height": 500,
        "hovermode": "closest",
        "showlegend": false,
        "template": {
         "data": {
          "bar": [
           {
            "error_x": {
             "color": "#2a3f5f"
            },
            "error_y": {
             "color": "#2a3f5f"
            },
            "marker": {
             "line": {
              "color": "#E5ECF6",
              "width": 0.5
             },
             "pattern": {
              "fillmode": "overlay",
              "size": 10,
              "solidity": 0.2
             }
            },
            "type": "bar"
           }
          ],
          "barpolar": [
           {
            "marker": {
             "line": {
              "color": "#E5ECF6",
              "width": 0.5
             },
             "pattern": {
              "fillmode": "overlay",
              "size": 10,
              "solidity": 0.2
             }
            },
            "type": "barpolar"
           }
          ],
          "carpet": [
           {
            "aaxis": {
             "endlinecolor": "#2a3f5f",
             "gridcolor": "white",
             "linecolor": "white",
             "minorgridcolor": "white",
             "startlinecolor": "#2a3f5f"
            },
            "baxis": {
             "endlinecolor": "#2a3f5f",
             "gridcolor": "white",
             "linecolor": "white",
             "minorgridcolor": "white",
             "startlinecolor": "#2a3f5f"
            },
            "type": "carpet"
           }
          ],
          "choropleth": [
           {
            "colorbar": {
             "outlinewidth": 0,
             "ticks": ""
            },
            "type": "choropleth"
           }
          ],
          "contour": [
           {
            "colorbar": {
             "outlinewidth": 0,
             "ticks": ""
            },
            "colorscale": [
             [
              0,
              "#0d0887"
             ],
             [
              0.1111111111111111,
              "#46039f"
             ],
             [
              0.2222222222222222,
              "#7201a8"
             ],
             [
              0.3333333333333333,
              "#9c179e"
             ],
             [
              0.4444444444444444,
              "#bd3786"
             ],
             [
              0.5555555555555556,
              "#d8576b"
             ],
             [
              0.6666666666666666,
              "#ed7953"
             ],
             [
              0.7777777777777778,
              "#fb9f3a"
             ],
             [
              0.8888888888888888,
              "#fdca26"
             ],
             [
              1,
              "#f0f921"
             ]
            ],
            "type": "contour"
           }
          ],
          "contourcarpet": [
           {
            "colorbar": {
             "outlinewidth": 0,
             "ticks": ""
            },
            "type": "contourcarpet"
           }
          ],
          "heatmap": [
           {
            "colorbar": {
             "outlinewidth": 0,
             "ticks": ""
            },
            "colorscale": [
             [
              0,
              "#0d0887"
             ],
             [
              0.1111111111111111,
              "#46039f"
             ],
             [
              0.2222222222222222,
              "#7201a8"
             ],
             [
              0.3333333333333333,
              "#9c179e"
             ],
             [
              0.4444444444444444,
              "#bd3786"
             ],
             [
              0.5555555555555556,
              "#d8576b"
             ],
             [
              0.6666666666666666,
              "#ed7953"
             ],
             [
              0.7777777777777778,
              "#fb9f3a"
             ],
             [
              0.8888888888888888,
              "#fdca26"
             ],
             [
              1,
              "#f0f921"
             ]
            ],
            "type": "heatmap"
           }
          ],
          "heatmapgl": [
           {
            "colorbar": {
             "outlinewidth": 0,
             "ticks": ""
            },
            "colorscale": [
             [
              0,
              "#0d0887"
             ],
             [
              0.1111111111111111,
              "#46039f"
             ],
             [
              0.2222222222222222,
              "#7201a8"
             ],
             [
              0.3333333333333333,
              "#9c179e"
             ],
             [
              0.4444444444444444,
              "#bd3786"
             ],
             [
              0.5555555555555556,
              "#d8576b"
             ],
             [
              0.6666666666666666,
              "#ed7953"
             ],
             [
              0.7777777777777778,
              "#fb9f3a"
             ],
             [
              0.8888888888888888,
              "#fdca26"
             ],
             [
              1,
              "#f0f921"
             ]
            ],
            "type": "heatmapgl"
           }
          ],
          "histogram": [
           {
            "marker": {
             "pattern": {
              "fillmode": "overlay",
              "size": 10,
              "solidity": 0.2
             }
            },
            "type": "histogram"
           }
          ],
          "histogram2d": [
           {
            "colorbar": {
             "outlinewidth": 0,
             "ticks": ""
            },
            "colorscale": [
             [
              0,
              "#0d0887"
             ],
             [
              0.1111111111111111,
              "#46039f"
             ],
             [
              0.2222222222222222,
              "#7201a8"
             ],
             [
              0.3333333333333333,
              "#9c179e"
             ],
             [
              0.4444444444444444,
              "#bd3786"
             ],
             [
              0.5555555555555556,
              "#d8576b"
             ],
             [
              0.6666666666666666,
              "#ed7953"
             ],
             [
              0.7777777777777778,
              "#fb9f3a"
             ],
             [
              0.8888888888888888,
              "#fdca26"
             ],
             [
              1,
              "#f0f921"
             ]
            ],
            "type": "histogram2d"
           }
          ],
          "histogram2dcontour": [
           {
            "colorbar": {
             "outlinewidth": 0,
             "ticks": ""
            },
            "colorscale": [
             [
              0,
              "#0d0887"
             ],
             [
              0.1111111111111111,
              "#46039f"
             ],
             [
              0.2222222222222222,
              "#7201a8"
             ],
             [
              0.3333333333333333,
              "#9c179e"
             ],
             [
              0.4444444444444444,
              "#bd3786"
             ],
             [
              0.5555555555555556,
              "#d8576b"
             ],
             [
              0.6666666666666666,
              "#ed7953"
             ],
             [
              0.7777777777777778,
              "#fb9f3a"
             ],
             [
              0.8888888888888888,
              "#fdca26"
             ],
             [
              1,
              "#f0f921"
             ]
            ],
            "type": "histogram2dcontour"
           }
          ],
          "mesh3d": [
           {
            "colorbar": {
             "outlinewidth": 0,
             "ticks": ""
            },
            "type": "mesh3d"
           }
          ],
          "parcoords": [
           {
            "line": {
             "colorbar": {
              "outlinewidth": 0,
              "ticks": ""
             }
            },
            "type": "parcoords"
           }
          ],
          "pie": [
           {
            "automargin": true,
            "type": "pie"
           }
          ],
          "scatter": [
           {
            "fillpattern": {
             "fillmode": "overlay",
             "size": 10,
             "solidity": 0.2
            },
            "type": "scatter"
           }
          ],
          "scatter3d": [
           {
            "line": {
             "colorbar": {
              "outlinewidth": 0,
              "ticks": ""
             }
            },
            "marker": {
             "colorbar": {
              "outlinewidth": 0,
              "ticks": ""
             }
            },
            "type": "scatter3d"
           }
          ],
          "scattercarpet": [
           {
            "marker": {
             "colorbar": {
              "outlinewidth": 0,
              "ticks": ""
             }
            },
            "type": "scattercarpet"
           }
          ],
          "scattergeo": [
           {
            "marker": {
             "colorbar": {
              "outlinewidth": 0,
              "ticks": ""
             }
            },
            "type": "scattergeo"
           }
          ],
          "scattergl": [
           {
            "marker": {
             "colorbar": {
              "outlinewidth": 0,
              "ticks": ""
             }
            },
            "type": "scattergl"
           }
          ],
          "scattermapbox": [
           {
            "marker": {
             "colorbar": {
              "outlinewidth": 0,
              "ticks": ""
             }
            },
            "type": "scattermapbox"
           }
          ],
          "scatterpolar": [
           {
            "marker": {
             "colorbar": {
              "outlinewidth": 0,
              "ticks": ""
             }
            },
            "type": "scatterpolar"
           }
          ],
          "scatterpolargl": [
           {
            "marker": {
             "colorbar": {
              "outlinewidth": 0,
              "ticks": ""
             }
            },
            "type": "scatterpolargl"
           }
          ],
          "scatterternary": [
           {
            "marker": {
             "colorbar": {
              "outlinewidth": 0,
              "ticks": ""
             }
            },
            "type": "scatterternary"
           }
          ],
          "surface": [
           {
            "colorbar": {
             "outlinewidth": 0,
             "ticks": ""
            },
            "colorscale": [
             [
              0,
              "#0d0887"
             ],
             [
              0.1111111111111111,
              "#46039f"
             ],
             [
              0.2222222222222222,
              "#7201a8"
             ],
             [
              0.3333333333333333,
              "#9c179e"
             ],
             [
              0.4444444444444444,
              "#bd3786"
             ],
             [
              0.5555555555555556,
              "#d8576b"
             ],
             [
              0.6666666666666666,
              "#ed7953"
             ],
             [
              0.7777777777777778,
              "#fb9f3a"
             ],
             [
              0.8888888888888888,
              "#fdca26"
             ],
             [
              1,
              "#f0f921"
             ]
            ],
            "type": "surface"
           }
          ],
          "table": [
           {
            "cells": {
             "fill": {
              "color": "#EBF0F8"
             },
             "line": {
              "color": "white"
             }
            },
            "header": {
             "fill": {
              "color": "#C8D4E3"
             },
             "line": {
              "color": "white"
             }
            },
            "type": "table"
           }
          ]
         },
         "layout": {
          "annotationdefaults": {
           "arrowcolor": "#2a3f5f",
           "arrowhead": 0,
           "arrowwidth": 1
          },
          "autotypenumbers": "strict",
          "coloraxis": {
           "colorbar": {
            "outlinewidth": 0,
            "ticks": ""
           }
          },
          "colorscale": {
           "diverging": [
            [
             0,
             "#8e0152"
            ],
            [
             0.1,
             "#c51b7d"
            ],
            [
             0.2,
             "#de77ae"
            ],
            [
             0.3,
             "#f1b6da"
            ],
            [
             0.4,
             "#fde0ef"
            ],
            [
             0.5,
             "#f7f7f7"
            ],
            [
             0.6,
             "#e6f5d0"
            ],
            [
             0.7,
             "#b8e186"
            ],
            [
             0.8,
             "#7fbc41"
            ],
            [
             0.9,
             "#4d9221"
            ],
            [
             1,
             "#276419"
            ]
           ],
           "sequential": [
            [
             0,
             "#0d0887"
            ],
            [
             0.1111111111111111,
             "#46039f"
            ],
            [
             0.2222222222222222,
             "#7201a8"
            ],
            [
             0.3333333333333333,
             "#9c179e"
            ],
            [
             0.4444444444444444,
             "#bd3786"
            ],
            [
             0.5555555555555556,
             "#d8576b"
            ],
            [
             0.6666666666666666,
             "#ed7953"
            ],
            [
             0.7777777777777778,
             "#fb9f3a"
            ],
            [
             0.8888888888888888,
             "#fdca26"
            ],
            [
             1,
             "#f0f921"
            ]
           ],
           "sequentialminus": [
            [
             0,
             "#0d0887"
            ],
            [
             0.1111111111111111,
             "#46039f"
            ],
            [
             0.2222222222222222,
             "#7201a8"
            ],
            [
             0.3333333333333333,
             "#9c179e"
            ],
            [
             0.4444444444444444,
             "#bd3786"
            ],
            [
             0.5555555555555556,
             "#d8576b"
            ],
            [
             0.6666666666666666,
             "#ed7953"
            ],
            [
             0.7777777777777778,
             "#fb9f3a"
            ],
            [
             0.8888888888888888,
             "#fdca26"
            ],
            [
             1,
             "#f0f921"
            ]
           ]
          },
          "colorway": [
           "#636efa",
           "#EF553B",
           "#00cc96",
           "#ab63fa",
           "#FFA15A",
           "#19d3f3",
           "#FF6692",
           "#B6E880",
           "#FF97FF",
           "#FECB52"
          ],
          "font": {
           "color": "#2a3f5f"
          },
          "geo": {
           "bgcolor": "white",
           "lakecolor": "white",
           "landcolor": "#E5ECF6",
           "showlakes": true,
           "showland": true,
           "subunitcolor": "white"
          },
          "hoverlabel": {
           "align": "left"
          },
          "hovermode": "closest",
          "mapbox": {
           "style": "light"
          },
          "paper_bgcolor": "white",
          "plot_bgcolor": "#E5ECF6",
          "polar": {
           "angularaxis": {
            "gridcolor": "white",
            "linecolor": "white",
            "ticks": ""
           },
           "bgcolor": "#E5ECF6",
           "radialaxis": {
            "gridcolor": "white",
            "linecolor": "white",
            "ticks": ""
           }
          },
          "scene": {
           "xaxis": {
            "backgroundcolor": "#E5ECF6",
            "gridcolor": "white",
            "gridwidth": 2,
            "linecolor": "white",
            "showbackground": true,
            "ticks": "",
            "zerolinecolor": "white"
           },
           "yaxis": {
            "backgroundcolor": "#E5ECF6",
            "gridcolor": "white",
            "gridwidth": 2,
            "linecolor": "white",
            "showbackground": true,
            "ticks": "",
            "zerolinecolor": "white"
           },
           "zaxis": {
            "backgroundcolor": "#E5ECF6",
            "gridcolor": "white",
            "gridwidth": 2,
            "linecolor": "white",
            "showbackground": true,
            "ticks": "",
            "zerolinecolor": "white"
           }
          },
          "shapedefaults": {
           "line": {
            "color": "#2a3f5f"
           }
          },
          "ternary": {
           "aaxis": {
            "gridcolor": "white",
            "linecolor": "white",
            "ticks": ""
           },
           "baxis": {
            "gridcolor": "white",
            "linecolor": "white",
            "ticks": ""
           },
           "bgcolor": "#E5ECF6",
           "caxis": {
            "gridcolor": "white",
            "linecolor": "white",
            "ticks": ""
           }
          },
          "title": {
           "x": 0.05
          },
          "xaxis": {
           "automargin": true,
           "gridcolor": "white",
           "linecolor": "white",
           "ticks": "",
           "title": {
            "standoff": 15
           },
           "zerolinecolor": "white",
           "zerolinewidth": 2
          },
          "yaxis": {
           "automargin": true,
           "gridcolor": "white",
           "linecolor": "white",
           "ticks": "",
           "title": {
            "standoff": 15
           },
           "zerolinecolor": "white",
           "zerolinewidth": 2
          }
         }
        },
        "width": 800,
        "xaxis": {
         "mirror": "allticks",
         "rangemode": "tozero",
         "showgrid": false,
         "showline": true,
         "showticklabels": true,
         "tickmode": "array",
         "ticks": "outside",
         "ticktext": [
          "0",
          "12",
          "13",
          "28",
          "26",
          "32",
          "20",
          "19",
          "29",
          "16",
          "7",
          "3",
          "21",
          "23",
          "30",
          "31",
          "18",
          "5",
          "8",
          "2",
          "4",
          "24",
          "14",
          "22",
          "11",
          "6",
          "10",
          "17",
          "1",
          "33",
          "9",
          "27",
          "15",
          "25",
          "34"
         ],
         "tickvals": [
          5,
          15,
          25,
          35,
          45,
          55,
          65,
          75,
          85,
          95,
          105,
          115,
          125,
          135,
          145,
          155,
          165,
          175,
          185,
          195,
          205,
          215,
          225,
          235,
          245,
          255,
          265,
          275,
          285,
          295,
          305,
          315,
          325,
          335,
          345
         ],
         "type": "linear",
         "zeroline": false
        },
        "yaxis": {
         "mirror": "allticks",
         "rangemode": "tozero",
         "showgrid": false,
         "showline": true,
         "showticklabels": true,
         "ticks": "outside",
         "type": "linear",
         "zeroline": false
        }
       }
      }
     },
     "metadata": {},
     "output_type": "display_data"
    }
   ],
   "source": [
    "import plotly.figure_factory as ff\n",
    "\n",
    "def interactive_dendrogram(Z):\n",
    "    fig = ff.create_dendrogram(X_scaled_sample, linkagefun=lambda x: Z)\n",
    "    fig.update_layout(width=800, height=500)\n",
    "    fig.show()\n",
    "\n",
    "interactive_dendrogram(Z)"
   ]
  },
  {
   "cell_type": "markdown",
   "metadata": {},
   "source": [
    "### 3.6. Loop sobre Pares de Columnas Numéricas\n",
    "\n",
    "Implementaremos un bucle que itera sobre todos los pares únicos de columnas numéricas y genera los dendrogramas y visualizaciones correspondientes."
   ]
  },
  {
   "cell_type": "code",
   "execution_count": 17,
   "metadata": {},
   "outputs": [],
   "source": [
    "from itertools import combinations\n",
    "\n",
    "numerical_features_full = ['budget', 'popularity', 'revenue', 'runtime', 'vote_average', 'vote_count']\n",
    "\n",
    "for feature_pair in combinations(numerical_features_full, 2):\n",
    "    X_pair = df_sample[list(feature_pair)].values\n",
    "    X_scaled_pair = scaler.fit_transform(X_pair)\n",
    "\n",
    "    Z_pair, _ = hierarchical_clustering(X_scaled_pair, linkage='single')\n",
    "\n",
    "    # Generar y guardar el dendrograma\n",
    "    plt.figure(figsize=(10, 7))\n",
    "    dendrogram(Z_pair.astype(float))\n",
    "    plt.title(f'Dendrograma para {feature_pair[0]} y {feature_pair[1]}')\n",
    "    plt.xlabel('Índices de las Muestras')\n",
    "    plt.ylabel('Distancia')\n",
    "    plt.savefig(f'hc_outputs/dendrogram_{feature_pair[0]}_{feature_pair[1]}.png')\n",
    "    plt.close()"
   ]
  }
 ],
 "metadata": {
  "kernelspec": {
   "display_name": "Python 3",
   "language": "python",
   "name": "python3"
  },
  "language_info": {
   "codemirror_mode": {
    "name": "ipython",
    "version": 3
   },
   "file_extension": ".py",
   "mimetype": "text/x-python",
   "name": "python",
   "nbconvert_exporter": "python",
   "pygments_lexer": "ipython3",
   "version": "3.12.6"
  }
 },
 "nbformat": 4,
 "nbformat_minor": 2
}
