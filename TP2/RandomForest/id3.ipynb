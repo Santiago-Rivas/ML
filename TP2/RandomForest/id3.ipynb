{
 "cells": [
  {
   "cell_type": "markdown",
   "metadata": {},
   "source": [
    "### Imports"
   ]
  },
  {
   "cell_type": "code",
   "execution_count": 2,
   "metadata": {},
   "outputs": [],
   "source": [
    "import pandas as pd\n",
    "import numpy as np\n",
    "import seaborn as sns\n",
    "import matplotlib.pyplot as plt\n",
    "import math\n",
    "from collections import Counter\n",
    "from graphviz import Digraph\n",
    "from IPython.display import Image\n",
    "import os\n",
    "import imageio.v2 as imageio\n",
    "from PIL import Image\n",
    "import random"
   ]
  },
  {
   "cell_type": "markdown",
   "metadata": {},
   "source": [
    "Analizamos el dataset, por ejemplo Credit Amount es una variable continua, no nos sirve. Analizamos con un histograma su distribución y luego decidimos qué hacer. Así con todas las variables continuas o discretas pero con muchos valores."
   ]
  },
  {
   "cell_type": "code",
   "execution_count": 20,
   "metadata": {},
   "outputs": [
    {
     "name": "stdout",
     "output_type": "stream",
     "text": [
      "Min Credit Amount: 250\n",
      "Max Credit Amount: 18424\n"
     ]
    },
    {
     "data": {
      "image/png": "[encoded data removed]",
      "text/plain": [
       "<Figure size 640x480 with 1 Axes>"
      ]
     },
     "metadata": {},
     "output_type": "display_data"
    }
   ],
   "source": [
    "df = pd.read_csv('german_credit.csv')\n",
    "\n",
    "# get the min and max of the column Credit Amount\n",
    "min_credit_amount = df['Credit Amount'].min()\n",
    "max_credit_amount = df['Credit Amount'].max()\n",
    "\n",
    "print('Min Credit Amount:', min_credit_amount)\n",
    "print('Max Credit Amount:', max_credit_amount)\n",
    "\n",
    "# Histogram of Credit Amount\n",
    "sns.histplot(df['Credit Amount'], bins=20)\n",
    "\n",
    "plt.title('Histogram of Credit Amount')\n",
    "plt.xlabel('Credit Amount')\n",
    "plt.ylabel('Frequency')\n",
    "plt.show()\n"
   ]
  },
  {
   "cell_type": "markdown",
   "metadata": {},
   "source": [
    "### Discretización de variables continuas o variables discretas con muchos valores"
   ]
  },
  {
   "cell_type": "code",
   "execution_count": 21,
   "metadata": {},
   "outputs": [
    {
     "name": "stdout",
     "output_type": "stream",
     "text": [
      "0    0\n",
      "1    2\n",
      "2    0\n",
      "3    1\n",
      "4    1\n",
      "Name: Credit Amount, dtype: category\n",
      "Categories (4, int64): [0 < 1 < 2 < 3]\n",
      "Credit Amount\n",
      "0    250\n",
      "1    250\n",
      "2    250\n",
      "3    250\n",
      "Name: count, dtype: int64\n"
     ]
    }
   ],
   "source": [
    "# Discretizar \"Credit Amount\" en 4 intervalos (cuartiles) usando binning basado en frecuencia\n",
    "df['Credit Amount'] = pd.qcut(df['Credit Amount'], q=4, labels=[0, 1, 2, 3]) # low, medium, high, very high\n",
    "\n",
    "# Mostrar las primeras filas del dataset y la nueva columna\n",
    "print(df['Credit Amount'].head())\n",
    "\n",
    "# Distribución de los bins (conteo)\n",
    "print(df['Credit Amount'].value_counts())\n",
    "\n",
    "# Ver los intervalos de cada bin -> cambiar la primera linea de codigo para que no sobrescriba\n",
    "# print(pd.qcut(df['Credit Amount'], q=4).value_counts())\n",
    "# Credit Amount\n",
    "# (249.999, 1365.5]     250\n",
    "# (1365.5, 2319.5]      250\n",
    "# (2319.5, 3972.25]     250\n",
    "# (3972.25, 18424.0]    250"
   ]
  },
  {
   "cell_type": "code",
   "execution_count": 22,
   "metadata": {},
   "outputs": [
    {
     "name": "stdout",
     "output_type": "stream",
     "text": [
      "0    1\n",
      "1    0\n",
      "2    0\n",
      "3    0\n",
      "4    0\n",
      "Name: Duration of Credit (month), dtype: category\n",
      "Categories (4, int64): [0 < 1 < 2 < 3]\n",
      "Duration of Credit (month)\n",
      "0    359\n",
      "3    230\n",
      "2    224\n",
      "1    187\n",
      "Name: count, dtype: int64\n"
     ]
    }
   ],
   "source": [
    "df['Duration of Credit (month)'] = pd.qcut(df['Duration of Credit (month)'], q=4, labels=[0, 1, 2, 3]) # short, medium, long, very_long\n",
    "\n",
    "# Mostrar las primeras filas del dataset y la nueva columna\n",
    "print(df['Duration of Credit (month)'].head())\n",
    "\n",
    "# Distribución de los bins (conteo)\n",
    "print(df['Duration of Credit (month)'].value_counts())\n",
    "\n",
    "# Ver los intervalos de cada bin -> cambiar la primera linea de codigo para que no sobrescriba\n",
    "# print(pd.qcut(df['Duration of Credit (month)'], q=4).value_counts())\n",
    "# Duration of Credit (month)\n",
    "# (3.999, 12.0]    359\n",
    "# (24.0, 72.0]     230\n",
    "# (18.0, 24.0]     224\n",
    "# (12.0, 18.0]     187"
   ]
  },
  {
   "cell_type": "code",
   "execution_count": 23,
   "metadata": {},
   "outputs": [
    {
     "name": "stdout",
     "output_type": "stream",
     "text": [
      "0    0\n",
      "1    2\n",
      "2    0\n",
      "3    2\n",
      "4    2\n",
      "Name: Age (years), dtype: category\n",
      "Categories (4, int64): [0 < 1 < 2 < 3]\n",
      "Age (years)\n",
      "0    289\n",
      "2    253\n",
      "3    233\n",
      "1    225\n",
      "Name: count, dtype: int64\n"
     ]
    }
   ],
   "source": [
    "df['Age (years)'] = pd.qcut(df['Age (years)'], q=4, labels=[0, 1, 2, 3]) \n",
    "\n",
    "# Mostrar las primeras filas del dataset y la nueva columna\n",
    "print(df['Age (years)'].head())\n",
    "\n",
    "# Distribución de los bins (conteo)\n",
    "print(df['Age (years)'].value_counts())\n",
    "\n",
    "# Ver los intervalos de cada bin -> cambiar la primera linea de codigo para que no sobrescriba\n",
    "# print(pd.qcut(df['Age (years)'], q=4).value_counts())\n",
    "# Duration of Credit (month)\n",
    "# (18.999, 27.0]    289\n",
    "# (27.0, 33.0]      225\n",
    "# (33.0, 42.0]      253\n",
    "# (42.0, 75.0]      233"
   ]
  },
  {
   "cell_type": "code",
   "execution_count": 24,
   "metadata": {},
   "outputs": [
    {
     "name": "stdout",
     "output_type": "stream",
     "text": [
      "Purpose\n",
      "3     280\n",
      "0     234\n",
      "2     181\n",
      "1     103\n",
      "9      97\n",
      "6      50\n",
      "5      22\n",
      "10     12\n",
      "4      12\n",
      "8       9\n",
      "Name: count, dtype: int64\n",
      "Threshold: 50.0\n",
      "Purpose\n",
      "3     280\n",
      "0     234\n",
      "2     181\n",
      "11    105\n",
      "1     103\n",
      "9      97\n",
      "Name: count, dtype: int64\n"
     ]
    }
   ],
   "source": [
    "# Calcular el total de registros\n",
    "total_records = len(df)\n",
    "\n",
    "# Ver la distribución de \"Purpose\"\n",
    "purpose_counts = df['Purpose'].value_counts()\n",
    "print(purpose_counts)\n",
    "\n",
    "# Definir un umbral del 5% del total de registros\n",
    "threshold = 0.05 * total_records\n",
    "print('Threshold:', threshold)\n",
    "\n",
    "# Agrupar las categorías que tienen un conteo menor o igual al 5% en \"Otros\"\n",
    "df['Purpose'] = df['Purpose'].apply(lambda x: x if purpose_counts[x] > threshold else 11) # 11 es la categoría \"Otros\"\n",
    "\n",
    "# Mostrar la nueva distribución\n",
    "print(df['Purpose'].value_counts())"
   ]
  },
  {
   "cell_type": "markdown",
   "metadata": {},
   "source": [
    "### Util Functions"
   ]
  },
  {
   "cell_type": "code",
   "execution_count": 25,
   "metadata": {},
   "outputs": [],
   "source": [
    "# Función para calcular la precisión\n",
    "def accuracy(y_true, y_pred):\n",
    "    y_true = np.array(y_true)\n",
    "    y_pred = np.array(y_pred)\n",
    "    return np.mean(y_true == y_pred)\n",
    "\n",
    "# Función para calcular la matriz de confusión\n",
    "def confusion_matrix(y_true, y_pred):\n",
    "    classes = np.unique(y_true)\n",
    "    matrix = pd.DataFrame(0, index=classes, columns=classes)\n",
    "    for true, pred in zip(y_true, y_pred):\n",
    "        matrix.at[true, pred] += 1\n",
    "    return matrix\n",
    "\n",
    "# Función para imprimir el árbol\n",
    "def print_tree(node, depth=0):\n",
    "    if node.is_leaf:\n",
    "        print(\" \" * depth * 2, \"Leaf:\", node.value)\n",
    "    else:\n",
    "        print(\" \" * depth * 2, \"Attribute:\", node.attribute)\n",
    "        for value, child in node.children.items():\n",
    "            print(\" \" * (depth + 1) * 2, \"Value:\", value)\n",
    "            print_tree(child, depth + 2)"
   ]
  },
  {
   "cell_type": "markdown",
   "metadata": {},
   "source": [
    "# ID3"
   ]
  },
  {
   "cell_type": "code",
   "execution_count": 36,
   "metadata": {},
   "outputs": [],
   "source": [
    "# Definición de la clase Node\n",
    "class Node:\n",
    "    def __init__(self, attribute=None, value=None, is_leaf=False, majority_class=None):\n",
    "        self.attribute = attribute  # Atributo para dividir en este nodo\n",
    "        self.children = {}          # Diccionario de hijos: valor del atributo -> nodo hijo\n",
    "        self.value = value          # Clase si es un nodo hoja\n",
    "        self.is_leaf = is_leaf      # Indicador de nodo hoja\n",
    "        self.majority_class = majority_class  # Clase mayoritaria en este nodo\n",
    "\n",
    "    def predict(self, sample):\n",
    "        if self.is_leaf:\n",
    "            return self.value\n",
    "        else:\n",
    "            attribute_value = sample.get(self.attribute)\n",
    "            child = self.children.get(attribute_value)\n",
    "            if child is not None:\n",
    "                return child.predict(sample)\n",
    "            else:\n",
    "                # Si el valor del atributo no se vio durante el entrenamiento\n",
    "                # Devolvemos la clase mayoritaria en este nodo\n",
    "                return self.majority_class\n",
    "\n",
    "# Definición de la clase DecisionTreeBuilder con el flag enable_snapshots\n",
    "class DecisionTreeBuilder:\n",
    "    def __init__(self, train_data, test_data, target_attribute, enable_snapshots=False):\n",
    "        self.snapshot_counter = 0\n",
    "        self.root = None\n",
    "        self.snapshots = []\n",
    "        self.node_counter = 0\n",
    "        self.train_data = train_data\n",
    "        self.test_data = test_data\n",
    "        self.target_attribute = target_attribute\n",
    "        self.train_accuracy = []\n",
    "        self.test_accuracy = []\n",
    "        self.num_nodes = []\n",
    "        self.enable_snapshots = enable_snapshots  # Flag para controlar las snapshots\n",
    "\n",
    "    def entropy(self, data, target_attribute):\n",
    "        target_values = data[target_attribute]\n",
    "        counts = target_values.value_counts()\n",
    "        total = len(target_values)\n",
    "        ent = 0\n",
    "        for count in counts:\n",
    "            p = count / total\n",
    "            ent -= p * math.log2(p)\n",
    "        return ent\n",
    "\n",
    "    def information_gain(self, data, attribute, target_attribute):\n",
    "        total_entropy = self.entropy(data, target_attribute)\n",
    "        values = data[attribute].unique()\n",
    "        weighted_entropy = 0\n",
    "        total = len(data)\n",
    "        for value in values:\n",
    "            subset = data[data[attribute] == value]\n",
    "            weight = len(subset) / total\n",
    "            subset_entropy = self.entropy(subset, target_attribute)\n",
    "            weighted_entropy += weight * subset_entropy\n",
    "        gain = total_entropy - weighted_entropy\n",
    "        return gain\n",
    "\n",
    "    def id3(self, data, attributes, target_attribute, parent_node=None, parent_value=None):\n",
    "        target_values = data[target_attribute]\n",
    "        # Si todas las clases son iguales, devolver un nodo hoja\n",
    "        if len(target_values.unique()) == 1:\n",
    "            majority_class = target_values.iloc[0]\n",
    "            leaf_node = Node(value=target_values.iloc[0], is_leaf=True, majority_class=majority_class)\n",
    "            if parent_node is not None:\n",
    "                self.connect_node(parent_node, leaf_node, parent_value)\n",
    "            else:\n",
    "                self.root = leaf_node\n",
    "                if self.enable_snapshots:\n",
    "                    self.generate_snapshot()\n",
    "                self.node_added()\n",
    "            return leaf_node\n",
    "        # Si no hay más atributos, devolver un nodo hoja con la clase mayoritaria\n",
    "        if len(attributes) == 0:\n",
    "            majority_value = target_values.mode()[0]\n",
    "            leaf_node = Node(value=majority_value, is_leaf=True, majority_class=majority_value)\n",
    "            if parent_node is not None:\n",
    "                self.connect_node(parent_node, leaf_node, parent_value)\n",
    "            else:\n",
    "                self.root = leaf_node\n",
    "                if self.enable_snapshots:\n",
    "                    self.generate_snapshot()\n",
    "                self.node_added()\n",
    "            return leaf_node\n",
    "        # Calcular la clase mayoritaria en este nodo\n",
    "        majority_class = target_values.mode()[0]\n",
    "        # Seleccionar el mejor atributo\n",
    "        gains = {attribute: self.information_gain(data, attribute, target_attribute) for attribute in attributes}\n",
    "        best_attribute = max(gains, key=gains.get)\n",
    "        node = Node(attribute=best_attribute, majority_class=majority_class)\n",
    "        if parent_node is not None:\n",
    "            self.connect_node(parent_node, node, parent_value)\n",
    "        else:\n",
    "            self.root = node\n",
    "            if self.enable_snapshots:\n",
    "                self.generate_snapshot()\n",
    "            self.node_added()\n",
    "        # Para cada valor posible del mejor atributo, crear subárboles\n",
    "        values = data[best_attribute].unique()\n",
    "        for value in values:\n",
    "            subset = data[data[best_attribute] == value]\n",
    "            if subset.empty:\n",
    "                # Si el subconjunto está vacío, crear un nodo hoja con la clase mayoritaria\n",
    "                leaf_node = Node(value=majority_class, is_leaf=True, majority_class=majority_class)\n",
    "                self.connect_node(node, leaf_node, value)\n",
    "            else:\n",
    "                new_attributes = attributes.copy()\n",
    "                new_attributes.remove(best_attribute)\n",
    "                self.id3(subset, new_attributes, target_attribute, parent_node=node, parent_value=value)\n",
    "        return node\n",
    "\n",
    "    def node_added(self):\n",
    "        self.node_counter += 1\n",
    "        # Calcular la precisión en entrenamiento y prueba\n",
    "        if self.train_data is not None and self.test_data is not None:\n",
    "            train_preds = self.predict(self.train_data)\n",
    "            test_preds = self.predict(self.test_data)\n",
    "            train_acc = accuracy(self.train_data[self.target_attribute], train_preds)\n",
    "            test_acc = accuracy(self.test_data[self.target_attribute], test_preds)\n",
    "            self.train_accuracy.append(train_acc)\n",
    "            self.test_accuracy.append(test_acc)\n",
    "            self.num_nodes.append(self.node_counter)\n",
    "\n",
    "    def connect_node(self, parent_node, child_node, value):\n",
    "        parent_node.children[value] = child_node\n",
    "        if self.enable_snapshots:\n",
    "            self.generate_snapshot()\n",
    "        self.node_added()\n",
    "\n",
    "    def generate_snapshot(self):\n",
    "        dot = self.generate_graphviz(self.root)\n",
    "        filename = f'decision_tree_step_{self.snapshot_counter}'\n",
    "        dot.render(filename, format='png', cleanup=True)\n",
    "        self.snapshots.append(f'{filename}.png')\n",
    "        self.snapshot_counter += 1\n",
    "        \n",
    "    def generate_tree_image(self, filename='decision_tree'):\n",
    "        dot = self.generate_graphviz(self.root)\n",
    "        dot.render(filename, format='png', cleanup=True)\n",
    "\n",
    "    def generate_graphviz(self, node, dot=None, parent=None, edge_label=None):\n",
    "        if dot is None:\n",
    "            dot = Digraph()\n",
    "        node_id = str(id(node))\n",
    "        if node.is_leaf:\n",
    "            dot.node(name=node_id, label='Leaf: ' + str(node.value), shape='box')\n",
    "        else:\n",
    "            dot.node(name=node_id, label=str(node.attribute))\n",
    "        if parent is not None:\n",
    "            dot.edge(str(id(parent)), node_id, label=str(edge_label))\n",
    "        if not node.is_leaf:\n",
    "            for value, child in node.children.items():\n",
    "                self.generate_graphviz(child, dot, node, value)\n",
    "        return dot\n",
    "\n",
    "    def build_tree(self, data, attributes, target_attribute):\n",
    "        self.root = self.id3(data, attributes, target_attribute)\n",
    "        return self.root\n",
    "\n",
    "    def predict(self, data):\n",
    "        predictions = []\n",
    "        for _, sample in data.iterrows():\n",
    "            prediction = self.root.predict(sample)\n",
    "            predictions.append(prediction)\n",
    "        return predictions\n",
    "\n",
    "    def create_animation(self, output_filename='decision_tree_animation.gif', duration=1):\n",
    "        if not self.enable_snapshots:\n",
    "            print(\"Snapshots were not enabled during tree construction.\")\n",
    "            return\n",
    "        images = []\n",
    "        # Determinar el ancho y alto máximos entre todas las imágenes\n",
    "        max_width = 0\n",
    "        max_height = 0\n",
    "        for filename in self.snapshots:\n",
    "            with Image.open(filename) as img:\n",
    "                max_width = max(max_width, img.width)\n",
    "                max_height = max(max_height, img.height)\n",
    "        # Abrir imágenes y ajustarlas al mismo tamaño\n",
    "        for filename in self.snapshots:\n",
    "            with Image.open(filename) as img:\n",
    "                # Crear una nueva imagen con el tamaño máximo y fondo blanco\n",
    "                new_img = Image.new('RGBA', (max_width, max_height), (255, 255, 255, 0))\n",
    "                # Pegar la imagen original en la nueva imagen (centrada)\n",
    "                x_offset = (max_width - img.width) // 2\n",
    "                y_offset = (max_height - img.height) // 2\n",
    "                new_img.paste(img, (x_offset, y_offset))\n",
    "                images.append(new_img)\n",
    "        # Guardar imágenes como GIF\n",
    "        images[0].save(output_filename, save_all=True, append_images=images[1:], duration=duration*1000, loop=0)\n",
    "        # Opcional: eliminar las imágenes de snapshot después de crear el GIF\n",
    "        for filename in self.snapshots:\n",
    "            os.remove(filename)\n"
   ]
  },
  {
   "cell_type": "markdown",
   "metadata": {},
   "source": [
    "## Train & Visualize"
   ]
  },
  {
   "cell_type": "code",
   "execution_count": 32,
   "metadata": {},
   "outputs": [],
   "source": [
    "# Suponiendo que el atributo objetivo es 'Creditability' (asegúrate de que coincide con tu conjunto de datos)\n",
    "target_attribute = 'Creditability'\n",
    "\n",
    "# Usar todos los atributos excepto el atributo objetivo\n",
    "attributes = [col for col in df.columns if col != target_attribute]\n",
    "\n",
    "# Mezclar el conjunto de datos\n",
    "data = df.sample(frac=1, random_state=42).reset_index(drop=True)\n",
    "\n",
    "# Dividir en conjunto de entrenamiento y prueba (80% entrenamiento, 20% prueba)\n",
    "train_size = int(0.8 * len(data))\n",
    "train_data = data.iloc[:train_size]\n",
    "test_data = data.iloc[train_size:]"
   ]
  },
  {
   "cell_type": "code",
   "execution_count": 44,
   "metadata": {},
   "outputs": [
    {
     "name": "stdout",
     "output_type": "stream",
     "text": [
      "Matriz de Confusión:\n",
      "    0    1\n",
      "0  25   33\n",
      "1  32  110\n"
     ]
    },
    {
     "data": {
      "image/png": "[encoded data removed]",
      "text/plain": [
       "<Figure size 600x400 with 2 Axes>"
      ]
     },
     "metadata": {},
     "output_type": "display_data"
    },
    {
     "data": {
      "image/png": "[encoded data removed]",
      "text/plain": [
       "<Figure size 1000x600 with 1 Axes>"
      ]
     },
     "metadata": {},
     "output_type": "display_data"
    }
   ],
   "source": [
    "# Construir el árbol de decisión sin generar snapshots\n",
    "builder = DecisionTreeBuilder(train_data=train_data, test_data=test_data, target_attribute=target_attribute, enable_snapshots=False)\n",
    "tree = builder.build_tree(train_data, attributes, target_attribute)\n",
    "builder.generate_snapshot()\n",
    "\n",
    "# Crear la animación GIF (si enable_snapshots=True)\n",
    "# builder.create_animation(duration=0.5)\n",
    "\n",
    "# Imprimir el árbol construido\n",
    "# print_tree(tree)\n",
    "\n",
    "# Última predicción y matriz de confusión\n",
    "test_preds = builder.predict(test_data)\n",
    "cm = confusion_matrix(test_data[target_attribute], test_preds)\n",
    "print(\"Matriz de Confusión:\")\n",
    "print(cm)\n",
    "# Graficar la matriz de confusión\n",
    "plt.figure(figsize=(6, 4))\n",
    "plt.imshow(cm, interpolation='nearest', cmap=plt.cm.Blues)\n",
    "plt.title('Matriz de Confusión')\n",
    "plt.colorbar()\n",
    "tick_marks = np.arange(len(cm.columns))\n",
    "plt.xticks(tick_marks, cm.columns, rotation=45)\n",
    "plt.yticks(tick_marks, cm.index)\n",
    "plt.xlabel('Valor Predicho')\n",
    "plt.ylabel('Valor Verdadero')\n",
    "plt.tight_layout()\n",
    "plt.show()\n",
    "\n",
    "# Graficar la precisión en función de la cantidad de nodos\n",
    "plt.figure(figsize=(10, 6))\n",
    "plt.plot(builder.num_nodes, builder.train_accuracy, label='Precisión en Entrenamiento')\n",
    "plt.plot(builder.num_nodes, builder.test_accuracy, label='Precisión en Prueba')\n",
    "plt.xlabel('Cantidad de Nodos')\n",
    "plt.ylabel('Precisión')\n",
    "plt.title('Precisión vs Cantidad de Nodos')\n",
    "plt.legend()\n",
    "plt.show()"
   ]
  }
 ],
 "metadata": {
  "kernelspec": {
   "display_name": "Python 3",
   "language": "python",
   "name": "python3"
  },
  "language_info": {
   "codemirror_mode": {
    "name": "ipython",
    "version": 3
   },
   "file_extension": ".py",
   "mimetype": "text/x-python",
   "name": "python",
   "nbconvert_exporter": "python",
   "pygments_lexer": "ipython3",
   "version": "3.12.6"
  }
 },
 "nbformat": 4,
 "nbformat_minor": 2
}
